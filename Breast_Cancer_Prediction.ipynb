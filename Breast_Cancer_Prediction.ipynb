{
  "metadata": {
    "kernelspec": {
      "display_name": "Python 3 (ipykernel)",
      "language": "python",
      "name": "python3"
    },
    "language_info": {
      "codemirror_mode": {
        "name": "ipython",
        "version": 3
      },
      "file_extension": ".py",
      "mimetype": "text/x-python",
      "name": "python",
      "nbconvert_exporter": "python",
      "pygments_lexer": "ipython3",
      "version": "3.12.7"
    },
    "kaggle": {
      "accelerator": "none",
      "dataSources": [
        {
          "sourceId": 408,
          "sourceType": "datasetVersion",
          "datasetId": 180
        }
      ],
      "dockerImageVersionId": 31012,
      "isInternetEnabled": true,
      "language": "python",
      "sourceType": "notebook",
      "isGpuEnabled": false
    },
    "colab": {
      "provenance": [],
      "include_colab_link": true
    }
  },
  "nbformat_minor": 0,
  "nbformat": 4,
  "cells": [
    {
      "cell_type": "markdown",
      "metadata": {
        "id": "view-in-github",
        "colab_type": "text"
      },
      "source": [
        "<a href=\"https://colab.research.google.com/github/pugalCse01/Classification-with-Logistic-Regression./blob/main/Breast_Cancer_Prediction.ipynb\" target=\"_parent\"><img src=\"https://colab.research.google.com/assets/colab-badge.svg\" alt=\"Open In Colab\"/></a>"
      ]
    },
    {
      "cell_type": "markdown",
      "source": [
        "#Import necessary Libraries"
      ],
      "metadata": {
        "id": "T5aU-hm8inME"
      }
    },
    {
      "cell_type": "code",
      "source": [
        "import pandas as pd\n",
        "import numpy as np\n",
        "import matplotlib\n",
        "import matplotlib.pyplot as plt\n",
        "import seaborn as sns\n",
        "from sklearn.model_selection import train_test_split\n",
        "from sklearn.impute import SimpleImputer\n",
        "from sklearn.preprocessing import StandardScaler, OneHotEncoder\n",
        "from sklearn.linear_model import LogisticRegression\n",
        "from sklearn.metrics import accuracy_score\n",
        "from sklearn.metrics import confusion_matrix\n",
        "from sklearn.metrics import precision_score, recall_score"
      ],
      "metadata": {
        "scrolled": true,
        "trusted": true,
        "execution": {
          "iopub.status.busy": "2025-04-26T12:26:55.44423Z",
          "iopub.execute_input": "2025-04-26T12:26:55.444535Z",
          "iopub.status.idle": "2025-04-26T12:26:58.23083Z",
          "shell.execute_reply.started": "2025-04-26T12:26:55.44451Z",
          "shell.execute_reply": "2025-04-26T12:26:58.229861Z"
        },
        "id": "b4f710e3-8f40-4b4e-a413-22356928b701"
      },
      "outputs": [],
      "execution_count": null
    },
    {
      "cell_type": "code",
      "source": [
        "df= pd.read_csv(\"data.csv\")\n",
        "df.head()"
      ],
      "metadata": {
        "id": "oShm0EbYWT_u"
      },
      "execution_count": null,
      "outputs": []
    },
    {
      "cell_type": "code",
      "source": [
        "df.info()"
      ],
      "metadata": {
        "id": "58364a32-8458-40d2-88b9-646821bb7b64"
      },
      "outputs": [],
      "execution_count": null
    },
    {
      "cell_type": "markdown",
      "source": [
        "# Data Cleaning and preprocessing\n",
        "**our data is clean no missing values and features are correct tyes .so data cleaning is unnecessary and the dataset is small so if we remove outlier means i will reduce the dataset size and the model training is not efficient**"
      ],
      "metadata": {
        "id": "hKeebANPizhI"
      }
    },
    {
      "cell_type": "code",
      "source": [
        "df.shape"
      ],
      "metadata": {
        "id": "xrGLWDauWpQT"
      },
      "execution_count": null,
      "outputs": []
    },
    {
      "cell_type": "code",
      "source": [
        "df.isnull().sum()"
      ],
      "metadata": {
        "id": "T5Vd2UZvWuKF"
      },
      "execution_count": null,
      "outputs": []
    },
    {
      "cell_type": "markdown",
      "source": [
        "# Drop the unnecessary columns"
      ],
      "metadata": {
        "id": "xuM5M1zqjnP9"
      }
    },
    {
      "cell_type": "code",
      "source": [
        "df.drop('Unnamed: 32', axis=1, inplace=True)\n",
        "df.drop('id',axis=1,inplace=True)"
      ],
      "metadata": {
        "id": "8425e02f-c101-4f8b-9555-ea8687e44631"
      },
      "outputs": [],
      "execution_count": null
    },
    {
      "cell_type": "markdown",
      "source": [
        "# Data Visualizations"
      ],
      "metadata": {
        "id": "1F-V4llVjwGZ"
      }
    },
    {
      "cell_type": "code",
      "source": [
        "sns.countplot(x='diagnosis', data=df, palette='Set2')\n",
        "plt.title(\"Count of Diagnosis (B = Benign, M = Malignant)\")\n",
        "plt.xlabel(\"Diagnosis\")\n",
        "plt.ylabel(\"Count\")\n",
        "plt.show()"
      ],
      "metadata": {
        "id": "583ee2b4-2b84-4c94-96a3-f32e10701a7d"
      },
      "outputs": [],
      "execution_count": null
    },
    {
      "cell_type": "code",
      "source": [
        "\n",
        "diagnosis_counts = df['diagnosis'].value_counts(normalize=True) * 100\n",
        "print(diagnosis_counts)\n",
        "\n",
        "diagnosis_counts.plot(kind='pie', labels=['Benign (0)', 'Malignant (1)'], autopct='%1.1f%%', colors=['lightblue', 'salmon'])\n",
        "plt.title(\"Diagnosis Distribution (%)\")\n",
        "plt.ylabel(\"\")\n",
        "plt.show()"
      ],
      "metadata": {
        "id": "91a6c26e-5a0f-4cfb-84d2-fbd0d89388ad"
      },
      "outputs": [],
      "execution_count": null
    },
    {
      "cell_type": "code",
      "source": [
        "mean_cols = [col for col in df.columns if '_mean' in col]\n",
        "df_mean = df[mean_cols + ['diagnosis']]\n",
        "sns.pairplot(df_mean, hue='diagnosis', corner=True, plot_kws={'alpha': 0.5, 's': 25})\n",
        "plt.suptitle(\"Scatter Matrix of Mean Features (Colored by Diagnosis)\", y=1.02)\n",
        "plt.show()"
      ],
      "metadata": {
        "id": "d960d4b4-e7c7-4b64-ae0a-c6f6ab851d81"
      },
      "outputs": [],
      "execution_count": null
    },
    {
      "cell_type": "code",
      "source": [
        "sns.histplot(data=df, x='radius_mean', hue='diagnosis', kde=True, palette='Set1', bins=30)\n",
        "plt.title(\"Distribution of Radius Mean by Diagnosis\")\n",
        "plt.show()"
      ],
      "metadata": {
        "id": "50456820-b486-4f47-9e14-d0f88397e076"
      },
      "outputs": [],
      "execution_count": null
    },
    {
      "cell_type": "code",
      "source": [
        "\n",
        "features_to_plot = ['radius_mean', 'texture_mean', 'area_mean', 'smoothness_mean']\n",
        "plt.figure(figsize=(15, 12))\n",
        "for i, feature in enumerate(features_to_plot, 1):\n",
        "    plt.subplot(2, 2, i)  # 2x2 grid\n",
        "    sns.histplot(data=df, x=feature, hue='diagnosis', kde=True, palette=\"coolwarm\", element=\"step\", stat=\"density\")\n",
        "    plt.title(f'Distribution of {feature} by Diagnosis')\n",
        "\n",
        "plt.tight_layout()\n",
        "plt.show()"
      ],
      "metadata": {
        "id": "61a078fe-9e0f-48a8-abb4-7786d1d71010"
      },
      "outputs": [],
      "execution_count": null
    },
    {
      "cell_type": "code",
      "source": [
        "import plotly.express as px\n",
        "numeric_df = df.select_dtypes(include=['number'])\n",
        "\n",
        "# Compute correlation matrix\n",
        "corr_matrix = numeric_df.corr().round(2)\n",
        "\n",
        "# Create interactive heatmap\n",
        "fig = px.imshow(\n",
        "    corr_matrix,\n",
        "    text_auto=True,\n",
        "    color_continuous_scale='RdBu_r',\n",
        "    aspect='auto',\n",
        "    title=\"Interactive Correlation Heatmap\"\n",
        ")\n",
        "fig.update_layout(width=1000, height=800)\n",
        "fig.show()"
      ],
      "metadata": {
        "id": "73c55d02-bec8-4650-b931-0c15e7b467c1"
      },
      "outputs": [],
      "execution_count": null
    },
    {
      "cell_type": "markdown",
      "source": [
        "# Drop the unnecessary columns which are not useful for training\n",
        "**for identify the unrelevent colums we use the coorelation matrix**"
      ],
      "metadata": {
        "id": "j47B7tElj1pn"
      }
    },
    {
      "cell_type": "code",
      "source": [
        "drop_columns = [\n",
        "    'perimeter_mean', 'area_mean',\n",
        "    'concavity_mean', 'concave points_mean',\n",
        "    'radius_worst', 'texture_worst', 'perimeter_worst', 'area_worst',\n",
        "    'smoothness_worst', 'compactness_worst', 'concavity_worst',\n",
        "    'concave points_worst', 'symmetry_worst', 'fractal_dimension_worst',\n",
        "    'perimeter_se', 'area_se'\n",
        "]\n",
        "\n",
        "df = df.drop(drop_columns, axis=1)"
      ],
      "metadata": {
        "id": "57cc062f-4b07-4605-81ff-c11842cde404"
      },
      "outputs": [],
      "execution_count": null
    },
    {
      "cell_type": "code",
      "source": [
        "df.head()"
      ],
      "metadata": {
        "id": "mKTJ7btFZB43"
      },
      "execution_count": null,
      "outputs": []
    },
    {
      "cell_type": "code",
      "source": [
        "X = df.drop('diagnosis', axis=1)\n",
        "y = df['diagnosis']\n"
      ],
      "metadata": {
        "id": "0c32c839-f2ed-483d-b0f9-cda81702583c"
      },
      "outputs": [],
      "execution_count": null
    },
    {
      "cell_type": "markdown",
      "source": [
        "# Split the dataset into train and test"
      ],
      "metadata": {
        "id": "My-_3ro2kauF"
      }
    },
    {
      "cell_type": "code",
      "source": [
        "X_train, X_test, y_train, y_test = train_test_split(X, y, test_size=0.4, random_state=42)"
      ],
      "metadata": {
        "id": "AORGK3xBcuN-"
      },
      "execution_count": null,
      "outputs": []
    },
    {
      "cell_type": "markdown",
      "source": [
        "# fit the train data in the Logistic Regression model"
      ],
      "metadata": {
        "id": "ZeiG4H8AkPad"
      }
    },
    {
      "cell_type": "code",
      "source": [
        "# Create and train the model\n",
        "\n",
        "model=LogisticRegression(solver='liblinear')\n",
        "model.fit(X_train,y_train)"
      ],
      "metadata": {
        "id": "c36035e5-c1f7-4d8d-953a-fe7340adbe98"
      },
      "outputs": [],
      "execution_count": null
    },
    {
      "cell_type": "markdown",
      "source": [
        "# predict the unseen data using the trained Logistic model"
      ],
      "metadata": {
        "id": "p9vv7yiCkl2M"
      }
    },
    {
      "cell_type": "code",
      "source": [
        "y_pred = model.predict(X_test)"
      ],
      "metadata": {
        "id": "rZ1wjk9FdHRh"
      },
      "execution_count": null,
      "outputs": []
    },
    {
      "cell_type": "code",
      "source": [
        "print(y_pred)"
      ],
      "metadata": {
        "id": "tGnoceztdOR3"
      },
      "execution_count": null,
      "outputs": []
    },
    {
      "cell_type": "markdown",
      "source": [
        "# evaluate the model\n",
        "**evaluate the model using precision recall and roc-curve .our model will have the accuracy of 92**"
      ],
      "metadata": {
        "id": "85kPe71Mkztf"
      }
    },
    {
      "cell_type": "code",
      "source": [
        "print(accuracy_score(y_test,y_pred))"
      ],
      "metadata": {
        "id": "_PpglkQedS23"
      },
      "execution_count": null,
      "outputs": []
    },
    {
      "cell_type": "code",
      "source": [
        "from sklearn.metrics import confusion_matrix, ConfusionMatrixDisplay\n",
        "cm = confusion_matrix(y_test, y_pred)\n",
        "disp = ConfusionMatrixDisplay(confusion_matrix=cm, display_labels=['Benign', 'Malignant'])\n",
        "plt.figure(figsize=(5, 4))\n",
        "disp.plot(cmap=plt.cm.Blues, values_format='d')\n",
        "plt.title('Confusion Matrix')\n",
        "plt.grid(False)\n",
        "plt.show()"
      ],
      "metadata": {
        "id": "0ORemanddaDo"
      },
      "execution_count": null,
      "outputs": []
    },
    {
      "cell_type": "code",
      "source": [
        "precision = precision_score(y_test, y_pred, pos_label='M')\n",
        "recall = recall_score(y_test, y_pred, pos_label='M')\n",
        "print(f'Precision: {precision:.2f}')\n",
        "print(f'Recall: {recall:.2f}')"
      ],
      "metadata": {
        "id": "qymfo0Xvec6J"
      },
      "execution_count": null,
      "outputs": []
    },
    {
      "cell_type": "code",
      "source": [
        "import matplotlib.pyplot as plt\n",
        "from sklearn.metrics import roc_curve, roc_auc_score\n",
        "y_test_binary = (y_test == 'M').astype(int)\n",
        "y_pred_probs = model.predict_proba(X_test)[:, 1]\n",
        "fpr, tpr, thresholds = roc_curve(y_test_binary, y_pred_probs)\n",
        "roc_auc = roc_auc_score(y_test_binary, y_pred_probs)\n",
        "plt.figure(figsize=(6, 5))\n",
        "plt.plot(fpr, tpr, color='darkorange', lw=2, label=f'ROC curve (AUC = {roc_auc:.2f})')\n",
        "plt.plot([0, 1], [0, 1], color='navy', lw=1, linestyle='--')\n",
        "plt.xlabel('False Positive Rate')\n",
        "plt.ylabel('True Positive Rate')\n",
        "plt.title('ROC Curve')\n",
        "plt.legend(loc=\"lower right\")\n",
        "plt.grid()\n",
        "plt.show()\n"
      ],
      "metadata": {
        "id": "lyLrEOxje21y"
      },
      "execution_count": null,
      "outputs": []
    },
    {
      "cell_type": "markdown",
      "source": [
        "# Thresold Tuning"
      ],
      "metadata": {
        "id": "8ghCBVUulLJQ"
      }
    },
    {
      "cell_type": "code",
      "source": [
        "import numpy as np\n",
        "from sklearn.metrics import precision_score, recall_score\n",
        "thresholds = np.arange(0.0, 1.01, 0.05)\n",
        "print(\"Threshold | Precision | Recall\")\n",
        "for t in thresholds:\n",
        "    y_pred_class = (y_pred_probs > t).astype(int)\n",
        "    precision = precision_score(y_test_binary, y_pred_class)\n",
        "    recall = recall_score(y_test_binary, y_pred_class)\n",
        "    print(f\"{t:.2f}       | {precision:.2f}      | {recall:.2f}\")\n",
        "\n"
      ],
      "metadata": {
        "id": "CbNAnaEigOl-"
      },
      "execution_count": null,
      "outputs": []
    },
    {
      "cell_type": "markdown",
      "source": [
        "# Sigmoid Function\n",
        "\n",
        "**A logistic regression model is designed to output values between 0 and 1, which can be interpreted as probabilities. This is achieved by using a special mathematical function called the sigmoid function, also known as the logistic function.**\n",
        "\n",
        "### 📘 Sigmoid Function Formula\n",
        "\n",
        "The sigmoid function is defined as:\n",
        "\n",
        "\\[\n",
        "\\sigma(z) = \\frac{1}{1 + e^{-z}}\n",
        "\\]\n"
      ],
      "metadata": {
        "id": "VSEwVIsMg2zF"
      }
    }
  ]
}